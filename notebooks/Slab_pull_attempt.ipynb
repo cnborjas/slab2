{
 "cells": [
  {
   "cell_type": "markdown",
   "metadata": {},
   "source": [
    "This notebook is my attempt at pulling data from a library and prompting a user to input the information needed to calculate the location of a subducting slab.  I will be pulling heavily from the IntroToSlab2.0 python notebook"
   ]
  },
  {
   "cell_type": "markdown",
   "metadata": {},
   "source": [
    "To run this notebook you will need to instal the following packages:\n",
    "\n",
    "pip install git+git://github.com/usgs/libcomcat.git\n",
    "pip install git+git://github.com/usgs/neicio.git"
   ]
  },
  {
   "cell_type": "markdown",
   "metadata": {},
   "source": [
    "The cell below indicates to IPython that all plots should be rendered inline and not in a separate window."
   ]
  },
  {
   "cell_type": "code",
   "execution_count": null,
   "metadata": {
    "collapsed": true
   },
   "outputs": [],
   "source": [
    "%matplotlib inline"
   ]
  },
  {
   "cell_type": "markdown",
   "metadata": {},
   "source": [
    "Imports needed to run the code."
   ]
  },
  {
   "cell_type": "code",
   "execution_count": null,
   "metadata": {
    "collapsed": false
   },
   "outputs": [],
   "source": [
    "#stdlib imports\n",
    "from datetime import datetime\n",
    "import urllib2\n",
    "import os.path\n",
    "\n",
    "#usgs imports\n",
    "from slab2.slabutils import getEventsInCircle\n",
    "from slab2.slabutils import getEventsInEllipse\n",
    "from slab2.slabutils import heading\n",
    "from libcomcat.comcat import getEventData,getTimeSegments\n",
    "from neicio.gmt import GMTGrid\n",
    "\n",
    "#third party imports\n",
    "import numpy as np\n",
    "import scipy.stats as stats\n",
    "import matplotlib.pyplot as plt\n",
    "from IPython.display import Image\n",
    "from scipy.io import netcdf\n",
    "import math"
   ]
  },
  {
   "cell_type": "markdown",
   "metadata": {},
   "source": [
    "If the user wishes to create a grid based on a slab1.0 image from the USGS website the we have the following"
   ]
  },
  {
   "cell_type": "code",
   "execution_count": null,
   "metadata": {
    "collapsed": false
   },
   "outputs": [],
   "source": [
    "recreate_grid = raw_input ('Do you wish to create a grid based on an area from slab1.0?\\n>(\"y\" for yes): ')\n",
    "if recreate_grid == 'y':\n",
    "    print \"\"\"\n",
    "    Available slab regions from slab1.0:\n",
    "    \n",
    "    Alaska-Aleutians         > alu_slab1\n",
    "    Central America          > mex_slab1\n",
    "    Cacadia                  > cas_slab1\n",
    "    Izu-Bonin                > izu_slab1\n",
    "    Kermadec-Tonga           > ker_slab1\n",
    "    Kamchatka/Kurils/Japan   > kur_slab1\n",
    "    Philippines              > phi_slab1\n",
    "    Ryukyu                   > ryu_slab1\n",
    "    Santa Cruz Islands       > van_slab1\n",
    "    Scotia                   > sco_slab1\n",
    "    Solomon Islands          > sol_slab1\n",
    "    South America            > sam_slab1\n",
    "    Sumatra-Java             > sum_slab1\n",
    "    \"\"\"\n",
    "    # With the given choices above a region is selected with the input below\n",
    "    selected_region = raw_input (\"Enter the region you wish to study:\\n>\")\n",
    "    # The url to pull from is determined\n",
    "    website = 'http://earthquake.usgs.gov/data/slab/images/%s.jpg' % selected_region\n",
    "    \n",
    "    print 'You have chosen to analyze a slab in the %s region.' % selected_region "
   ]
  },
  {
   "cell_type": "markdown",
   "metadata": {},
   "source": []
  },
  {
   "cell_type": "code",
   "execution_count": null,
   "metadata": {
    "collapsed": false
   },
   "outputs": [],
   "source": [
    "Image(url = website)"
   ]
  },
  {
   "cell_type": "markdown",
   "metadata": {},
   "source": []
  },
  {
   "cell_type": "code",
   "execution_count": null,
   "metadata": {
    "collapsed": false
   },
   "outputs": [],
   "source": [
    "if recreate_grid != 'y':\n",
    "    print 'In order to confine the desired area please' \\\n",
    "    'enter the longitudinal and latitudinal range that is desired.\\n'\n",
    "\n",
    "    lonmin = input ('Enter the desired longitudinal Minimum: \\n>')\n",
    "    lonmax = input ('Enter the desired longitudinal Maximum: \\n>')\n",
    "    latmin = input ('Enter the desired latitudinal Minimum: \\n>')\n",
    "    latmax = input ('Enter the desired latitudinal Maximum: \\n>')\n",
    "  \n",
    "    #create arrays of lat/lon values\n",
    "    lons = np.arange(lonmin,lonmax,0.5)\n",
    "    lats = np.arange(latmin,latmax,0.5)\n",
    "    bounds = (lons.min(),lons.max(),lats.min(),lats.max())"
   ]
  },
  {
   "cell_type": "code",
   "execution_count": null,
   "metadata": {
    "collapsed": false
   },
   "outputs": [],
   "source": [
    "if recreate_grid == 'y':\n",
    "    url = 'http://earthquake.usgs.gov/data/slab/models/%s.0_clip.grd' % selected_region\n",
    "    fname = '%s.0_clip.grd' % selected_region\n",
    "    if not os.path.isfile(fname):\n",
    "        fh = urllib2.urlopen(url)\n",
    "        data = fh.read()\n",
    "        fh.close()\n",
    "        f = open(fname,'wb')\n",
    "        f.write(data)\n",
    "        f.close()\n",
    "\n",
    "    depgrid = GMTGrid(fname)\n",
    "    xmin,xmax,ymin,ymax = depgrid.getRange()\n",
    "    #create arrays of lat/lon values\n",
    "    lons = np.arange(xmin,xmax,0.5)\n",
    "    lats = np.arange(ymin,ymax,0.5)\n",
    "    bounds = (lons.min(),lons.max(),lats.min(),lats.max())\n",
    "    print bounds"
   ]
  },
  {
   "cell_type": "code",
   "execution_count": null,
   "metadata": {
    "collapsed": false
   },
   "outputs": [],
   "source": [
    "if recreate_grid == 'y':\n",
    "    url = 'http://earthquake.usgs.gov/data/slab/models/%s.0_strclip.grd' % selected_region\n",
    "    fname = '%s.0_strclip.grd' % selected_region\n",
    "    if not os.path.isfile(fname):\n",
    "        fh = urllib2.urlopen(url)\n",
    "        data = fh.read()\n",
    "        fh.close()\n",
    "        f = open(fname,'wb')\n",
    "        f.write(data)\n",
    "        f.close()\n",
    "\n",
    "    strgrid = GMTGrid(fname)\n",
    "\n",
    "    url = 'http://earthquake.usgs.gov/data/slab/models/%s.0_dipclip.grd' % selected_region\n",
    "    fname = '%s.0_dipclip.grd' % selected_region\n",
    "    if not os.path.isfile(fname):\n",
    "        fh = urllib2.urlopen(url)\n",
    "        data = fh.read()\n",
    "        fh.close()\n",
    "        f = open(fname,'wb')\n",
    "        f.write(data)\n",
    "        f.close()\n",
    "\n",
    "    dipgrid = GMTGrid(fname)"
   ]
  },
  {
   "cell_type": "code",
   "execution_count": null,
   "metadata": {
    "collapsed": false
   },
   "outputs": [],
   "source": [
    "print dipgrid\n",
    "print selected_region"
   ]
  },
  {
   "cell_type": "markdown",
   "metadata": {},
   "source": [
    "Regions that work:\n",
    "sol\n",
    "sum\n",
    "mex\n",
    "cas\n",
    "ker\n",
    "kur\n",
    "phi\n",
    "ryu\n",
    "van\n",
    "sco\n",
    "\n",
    "Regions that don't work:\n",
    "sam (?total size of new array must be unchanged?)\n",
    "izu (?total size of new array must be unchanged?)\n",
    "alu (?states that the file is not a valid NetCDF 3 file?)"
   ]
  }
 ],
 "metadata": {
  "kernelspec": {
   "display_name": "Python 2",
   "language": "python",
   "name": "python2"
  },
  "language_info": {
   "codemirror_mode": {
    "name": "ipython",
    "version": 2
   },
   "file_extension": ".py",
   "mimetype": "text/x-python",
   "name": "python",
   "nbconvert_exporter": "python",
   "pygments_lexer": "ipython2",
   "version": "2.7.10"
  }
 },
 "nbformat": 4,
 "nbformat_minor": 0
}
